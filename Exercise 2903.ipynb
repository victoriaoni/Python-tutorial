{
  "nbformat": 4,
  "nbformat_minor": 0,
  "metadata": {
    "colab": {
      "provenance": [],
      "include_colab_link": true
    },
    "kernelspec": {
      "name": "python3",
      "display_name": "Python 3"
    },
    "language_info": {
      "name": "python"
    }
  },
  "cells": [
    {
      "cell_type": "markdown",
      "metadata": {
        "id": "view-in-github",
        "colab_type": "text"
      },
      "source": [
        "<a href=\"https://colab.research.google.com/github/victoriaoni/Python-tutorial/blob/main/Exercise%202903.ipynb\" target=\"_parent\"><img src=\"https://colab.research.google.com/assets/colab-badge.svg\" alt=\"Open In Colab\"/></a>"
      ]
    },
    {
      "cell_type": "markdown",
      "source": [
        "# Exercise:\n",
        "- name your file as exercise.ipynb\n",
        "- create a code cell and run the code `print('Python is fun!')`\n",
        "- create a text cell with the text ` # Python Class `"
      ],
      "metadata": {
        "id": "1aiCuznCpA_l"
      }
    },
    {
      "cell_type": "code",
      "source": [
        "print('Python is fun!') # Shift + Enter --> keyboard shortcut"
      ],
      "metadata": {
        "colab": {
          "base_uri": "https://localhost:8080/"
        },
        "id": "7UP5zEfEq3m1",
        "outputId": "fae7e901-9dbb-44b2-b840-43f1cd028bc8"
      },
      "execution_count": null,
      "outputs": [
        {
          "output_type": "stream",
          "name": "stdout",
          "text": [
            "Python is fun!\n"
          ]
        }
      ]
    },
    {
      "cell_type": "markdown",
      "source": [
        "### Variables"
      ],
      "metadata": {
        "id": "90FCY4lwO_Nz"
      }
    },
    {
      "cell_type": "code",
      "source": [
        "# store the name of your best movie in a variable. Name your variable in keeping with the acceptable convention\n",
        "my_best_movie = 'Brown Sugar'"
      ],
      "metadata": {
        "id": "M5SYsrVHRdmw"
      },
      "execution_count": null,
      "outputs": []
    },
    {
      "cell_type": "code",
      "source": [
        "# Assign a value of 20 to a variable named price\n",
        "price = 20\n",
        "\n",
        "# Print the price\n",
        "print(price)"
      ],
      "metadata": {
        "id": "hYhkl477PJDq",
        "colab": {
          "base_uri": "https://localhost:8080/"
        },
        "outputId": "27b2d8b2-c9bd-4f19-9749-b5055f035316"
      },
      "execution_count": null,
      "outputs": [
        {
          "output_type": "stream",
          "name": "stdout",
          "text": [
            "20\n"
          ]
        }
      ]
    },
    {
      "cell_type": "code",
      "source": [
        "# update the value of price by multiplying the previous value by 0.25. You can take advantage of the *= operator\n",
        "price = 20\n",
        "price *= 0.25\n",
        "\n",
        "# Print the price\n",
        "print(price)\n"
      ],
      "metadata": {
        "id": "yI_t_Nx6PxUy",
        "colab": {
          "base_uri": "https://localhost:8080/"
        },
        "outputId": "77904e84-aec0-4771-a8d1-749636161807"
      },
      "execution_count": null,
      "outputs": [
        {
          "output_type": "stream",
          "name": "stdout",
          "text": [
            "5.0\n"
          ]
        }
      ]
    },
    {
      "cell_type": "code",
      "source": [
        "# Print out a variable called `my_variable`\n",
        "my_variable = 'paint'\n",
        "print(my_variable)"
      ],
      "metadata": {
        "id": "u-0cCnBEUa1k",
        "colab": {
          "base_uri": "https://localhost:8080/"
        },
        "outputId": "06fb9a9a-a771-4082-843f-7d017c9e311f"
      },
      "execution_count": null,
      "outputs": [
        {
          "output_type": "stream",
          "name": "stdout",
          "text": [
            "paint\n"
          ]
        }
      ]
    },
    {
      "cell_type": "markdown",
      "source": [
        "### Data Types"
      ],
      "metadata": {
        "id": "b8_brk2XROuS"
      }
    },
    {
      "cell_type": "code",
      "source": [
        "# Save the name of your best fruit in a variable\n",
        "\n",
        "best_fruit = 'apple'\n",
        "\n",
        "# print out the name of your best fruit\n",
        "\n",
        "print(best_fruit)"
      ],
      "metadata": {
        "id": "bApW9PtGRN45",
        "colab": {
          "base_uri": "https://localhost:8080/"
        },
        "outputId": "a4572869-a031-4db2-c78b-94e0095253a8"
      },
      "execution_count": null,
      "outputs": [
        {
          "output_type": "stream",
          "name": "stdout",
          "text": [
            "apple\n"
          ]
        }
      ]
    },
    {
      "cell_type": "code",
      "source": [
        "# Assign the number 5 to a variable called `num`\n",
        "num = 5\n",
        "\n",
        "# Print out the data type of the variable\n",
        "type(num)\n",
        "# Cast the variable to a string and assign the result to a variable called `str_num`\n",
        "str_num = str(5)\n",
        "\n",
        "# Print out the data type of `str_num`\n",
        "print(str_num)\n"
      ],
      "metadata": {
        "id": "C33J2xROR9sc",
        "colab": {
          "base_uri": "https://localhost:8080/"
        },
        "outputId": "05bbb565-f2cf-4ce7-900c-a7c2e5f5f3e0"
      },
      "execution_count": null,
      "outputs": [
        {
          "output_type": "stream",
          "name": "stdout",
          "text": [
            "5\n"
          ]
        }
      ]
    },
    {
      "cell_type": "code",
      "source": [
        "# Assign `0` to a variable called `num_zero`\n",
        "num_zero = 0\n",
        "\n",
        "# Cast `num_zero` to a boolean and save the result in a variable called `bool_zero`\n",
        "\n",
        "# Print out `bool_zero`"
      ],
      "metadata": {
        "id": "garRs3wwSFOV"
      },
      "execution_count": null,
      "outputs": []
    },
    {
      "cell_type": "code",
      "source": [
        "# Create a string called `Hello` and assign it to a variable called `greeting`\n",
        "print('Hello')\n",
        "\n",
        "greeting = 'Hello'\n",
        "\n",
        "# Cast `greeting` to an integer and save the result in a variable\n",
        "\n",
        "\n",
        "# Print out the result. What did you notice?\n"
      ],
      "metadata": {
        "id": "rZTPQfIGS5pA",
        "colab": {
          "base_uri": "https://localhost:8080/"
        },
        "outputId": "b1d29298-df3c-4541-d442-02008490f15d"
      },
      "execution_count": null,
      "outputs": [
        {
          "output_type": "stream",
          "name": "stdout",
          "text": [
            "Hello\n"
          ]
        }
      ]
    },
    {
      "cell_type": "markdown",
      "source": [
        "### Strings\n",
        "1. Assign `Strawberry` to a variable called `fruit`. using a string method, print out the position of the letter `b` in the variable\n",
        "2. Using a string method, find out if the word `Jupyter` contains the letter `y`\n",
        "3. Using a string method, find out if the word `Banana` starts with a `b`. Also check if it ends with the letter `A`.\n",
        "4. You own a retail store. Your customer bought 5 quantities of a particular product at 20 pounds each. Store each of these data (quantity and price) in their respective variables and define a variable called `total_price` that stores the total amount to be paid by the customer. Using f-string, print out this message : `you ordered 5 pieces of the product at 20 pounds each. Your total price is 100 pound`"
      ],
      "metadata": {
        "id": "jpVsypsGviOe"
      }
    },
    {
      "cell_type": "code",
      "source": [],
      "metadata": {
        "id": "B8YZhPDtvjnx"
      },
      "execution_count": null,
      "outputs": []
    }
  ]
}